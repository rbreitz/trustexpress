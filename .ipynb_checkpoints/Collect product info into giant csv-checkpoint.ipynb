{
 "cells": [
  {
   "cell_type": "code",
   "execution_count": 1,
   "metadata": {},
   "outputs": [],
   "source": [
    "#Import some relevant packages\n",
    "import csv\n",
    "import requests\n",
    "import os\n",
    "\n",
    "#For generally exploring things within Python\n",
    "import pandas as pd\n",
    "import matplotlib as mpl\n",
    "import numpy as np"
   ]
  },
  {
   "cell_type": "code",
   "execution_count": 6,
   "metadata": {},
   "outputs": [],
   "source": [
    "listoffiles = os.listdir('/Users/rebeccareitz/Desktop/Insight/AliExpress_Project/Scraped_Products')"
   ]
  },
  {
   "cell_type": "code",
   "execution_count": 10,
   "metadata": {},
   "outputs": [
    {
     "name": "stdout",
     "output_type": "stream",
     "text": [
      "pet_products_001.csv\n",
      "kitchen_goods_products_001.csv\n",
      "earings_products_001.csv\n",
      "necklaces_products_001.csv\n",
      "fine_jewelry_products_001.csv\n",
      "garden_reviews_001.csv\n",
      "crafts_products_001.csv\n",
      "home_cleaning_products_001.csv\n",
      "home_decor_products_001.csv\n",
      "garden_products_001.csv\n",
      "headphones_products_001.csv\n",
      "wedding_ring_products_001.csv\n",
      "home_audio_products_001.csv\n",
      "laptop_accessories_products_001.csv\n",
      "womens_clothes_products_001.csv.csv\n",
      "mens_clothes_products_001.csv.csv\n",
      "cell_phone_cases_products_001.csv\n",
      "cell_phone_parts_products_001.csv\n",
      "cell_phone_accessories_products_001.csv\n",
      "office_electronics_products_00.csv\n",
      "cables_products_001.csv\n",
      "shoulder_bags_products_001.csv\n",
      "lots_of_products_005.csv\n",
      "beads_products_001.csv\n",
      "computer_peripherals_products_001.csv\n",
      "home_textile_products_001.csv\n",
      "bracelets_products_001.csv\n",
      "memory_card_products_001.csv\n",
      "jewelry_set_products_001.csv\n",
      "festive_products_001.csv\n",
      "computer_component_products_001.csv\n",
      "mens_bags_products_001.csv\n",
      "home_organization_products_001.csv\n"
     ]
    }
   ],
   "source": [
    "for ind, filename in enumerate(listoffiles):\n",
    "    this_df = pd.read_csv(filename)"
   ]
  },
  {
   "cell_type": "code",
   "execution_count": null,
   "metadata": {},
   "outputs": [],
   "source": []
  }
 ],
 "metadata": {
  "kernelspec": {
   "display_name": "Python 3",
   "language": "python",
   "name": "python3"
  },
  "language_info": {
   "codemirror_mode": {
    "name": "ipython",
    "version": 3
   },
   "file_extension": ".py",
   "mimetype": "text/x-python",
   "name": "python",
   "nbconvert_exporter": "python",
   "pygments_lexer": "ipython3",
   "version": "3.6.5"
  }
 },
 "nbformat": 4,
 "nbformat_minor": 2
}
