{
 "cells": [
  {
   "cell_type": "markdown",
   "metadata": {},
   "source": [
    "# Make all the Product Data into One CSV\n",
    "\n",
    "This notebook has a singular and simple purpose. Just dump all the product data into one CSV."
   ]
  },
  {
   "cell_type": "code",
   "execution_count": 1,
   "metadata": {},
   "outputs": [],
   "source": [
    "#Import some relevant packages\n",
    "import csv\n",
    "import requests\n",
    "import os\n",
    "\n",
    "#For generally exploring things within Python\n",
    "import pandas as pd\n",
    "import matplotlib as mpl\n",
    "import numpy as np"
   ]
  },
  {
   "cell_type": "code",
   "execution_count": 13,
   "metadata": {},
   "outputs": [],
   "source": [
    "listoffiles = os.listdir('/Users/rebeccareitz/Desktop/Insight/AliExpress_Project/Scraped_Products')"
   ]
  },
  {
   "cell_type": "code",
   "execution_count": 14,
   "metadata": {},
   "outputs": [],
   "source": [
    "path = '/Users/rebeccareitz/Desktop/Insight/AliExpress_Project/Scraped_Products/'"
   ]
  },
  {
   "cell_type": "code",
   "execution_count": 24,
   "metadata": {},
   "outputs": [],
   "source": [
    "for ind, filename in enumerate(listoffiles):\n",
    "    full_name = path+filename\n",
    "    this_df = pd.read_csv(full_name, index_col=False, low_memory=False)\n",
    "    if ind ==0:\n",
    "        big_df = this_df\n",
    "    else:\n",
    "        big_df = pd.concat([big_df,this_df], ignore_index = True, sort=False)"
   ]
  },
  {
   "cell_type": "code",
   "execution_count": 25,
   "metadata": {},
   "outputs": [
    {
     "data": {
      "text/plain": [
       "(4351, 33)"
      ]
     },
     "execution_count": 25,
     "metadata": {},
     "output_type": "execute_result"
    }
   ],
   "source": [
    "big_df.shape"
   ]
  },
  {
   "cell_type": "code",
   "execution_count": 26,
   "metadata": {},
   "outputs": [],
   "source": [
    "big_df_less_duplicates = big_df.drop_duplicates()"
   ]
  },
  {
   "cell_type": "code",
   "execution_count": 30,
   "metadata": {},
   "outputs": [],
   "source": [
    "big_df_less_duplicates.to_csv('all_saved_product_info.csv')"
   ]
  },
  {
   "cell_type": "code",
   "execution_count": 27,
   "metadata": {},
   "outputs": [
    {
     "data": {
      "text/html": [
       "<div>\n",
       "<style scoped>\n",
       "    .dataframe tbody tr th:only-of-type {\n",
       "        vertical-align: middle;\n",
       "    }\n",
       "\n",
       "    .dataframe tbody tr th {\n",
       "        vertical-align: top;\n",
       "    }\n",
       "\n",
       "    .dataframe thead th {\n",
       "        text-align: right;\n",
       "    }\n",
       "</style>\n",
       "<table border=\"1\" class=\"dataframe\">\n",
       "  <thead>\n",
       "    <tr style=\"text-align: right;\">\n",
       "      <th></th>\n",
       "      <th>product_id</th>\n",
       "      <th>title</th>\n",
       "      <th>description</th>\n",
       "      <th>price</th>\n",
       "      <th>discount_price</th>\n",
       "      <th>stars</th>\n",
       "      <th>votes</th>\n",
       "      <th>orders</th>\n",
       "      <th>wishlists</th>\n",
       "      <th>is_free_shipping</th>\n",
       "      <th>...</th>\n",
       "      <th>Unnamed: 4</th>\n",
       "      <th>Unnamed: 5</th>\n",
       "      <th>https://ae01.alicdn.com/kf/UTB8hRIavU_4iuJk43Fqq6z.FpXa9.jpg_220x220.jpg</th>\n",
       "      <th>1739924740</th>\n",
       "      <th>C***l M.</th>\n",
       "      <th>17 Sep 2018</th>\n",
       "      <th>Unnamed: 10</th>\n",
       "      <th>Seller's Shipping Method</th>\n",
       "      <th>Unnamed: 12</th>\n",
       "      <th>Unnamed: 13</th>\n",
       "    </tr>\n",
       "  </thead>\n",
       "  <tbody>\n",
       "    <tr>\n",
       "      <th>0</th>\n",
       "      <td>3.283524e+10</td>\n",
       "      <td>13Cm Sightly Pet Chew Cotton Donut Play Toys L...</td>\n",
       "      <td>{\"Brand Name\": \"PETRICH\", \"Type\": \"Dogs\", \"Toy...</td>\n",
       "      <td>0.74</td>\n",
       "      <td>0.70</td>\n",
       "      <td>4.9</td>\n",
       "      <td>739.0</td>\n",
       "      <td>3012.0</td>\n",
       "      <td>0.0</td>\n",
       "      <td>True</td>\n",
       "      <td>...</td>\n",
       "      <td>NaN</td>\n",
       "      <td>NaN</td>\n",
       "      <td>NaN</td>\n",
       "      <td>NaN</td>\n",
       "      <td>NaN</td>\n",
       "      <td>NaN</td>\n",
       "      <td>NaN</td>\n",
       "      <td>NaN</td>\n",
       "      <td>NaN</td>\n",
       "      <td>NaN</td>\n",
       "    </tr>\n",
       "    <tr>\n",
       "      <th>1</th>\n",
       "      <td>3.280403e+10</td>\n",
       "      <td>HANTAJANSS Large Dog Harness Collar Comfortabl...</td>\n",
       "      <td>{\"Brand Name\": \"HANTAJANSS\", \"Type\": \"Harnesse...</td>\n",
       "      <td>6.99</td>\n",
       "      <td>NaN</td>\n",
       "      <td>3.9</td>\n",
       "      <td>23.0</td>\n",
       "      <td>3053.0</td>\n",
       "      <td>0.0</td>\n",
       "      <td>True</td>\n",
       "      <td>...</td>\n",
       "      <td>NaN</td>\n",
       "      <td>NaN</td>\n",
       "      <td>NaN</td>\n",
       "      <td>NaN</td>\n",
       "      <td>NaN</td>\n",
       "      <td>NaN</td>\n",
       "      <td>NaN</td>\n",
       "      <td>NaN</td>\n",
       "      <td>NaN</td>\n",
       "      <td>NaN</td>\n",
       "    </tr>\n",
       "    <tr>\n",
       "      <th>2</th>\n",
       "      <td>3.272679e+10</td>\n",
       "      <td>Wholesale 1PC HandsomePet Dog Scarf Collars  A...</td>\n",
       "      <td>{\"Brand Name\": \"Dogbaby\", \"Type\": \"Collars\", \"...</td>\n",
       "      <td>0.99</td>\n",
       "      <td>0.69</td>\n",
       "      <td>4.5</td>\n",
       "      <td>89.0</td>\n",
       "      <td>2625.0</td>\n",
       "      <td>0.0</td>\n",
       "      <td>True</td>\n",
       "      <td>...</td>\n",
       "      <td>NaN</td>\n",
       "      <td>NaN</td>\n",
       "      <td>NaN</td>\n",
       "      <td>NaN</td>\n",
       "      <td>NaN</td>\n",
       "      <td>NaN</td>\n",
       "      <td>NaN</td>\n",
       "      <td>NaN</td>\n",
       "      <td>NaN</td>\n",
       "      <td>NaN</td>\n",
       "    </tr>\n",
       "    <tr>\n",
       "      <th>3</th>\n",
       "      <td>3.283944e+10</td>\n",
       "      <td>FLOWGOGO Anti-lost Stainless Steel Dog ID Tag ...</td>\n",
       "      <td>{\"Brand Name\": \"flowgogo\", \"Type\": \"ID Tags\", ...</td>\n",
       "      <td>1.79</td>\n",
       "      <td>1.70</td>\n",
       "      <td>4.9</td>\n",
       "      <td>2832.0</td>\n",
       "      <td>4824.0</td>\n",
       "      <td>0.0</td>\n",
       "      <td>True</td>\n",
       "      <td>...</td>\n",
       "      <td>NaN</td>\n",
       "      <td>NaN</td>\n",
       "      <td>NaN</td>\n",
       "      <td>NaN</td>\n",
       "      <td>NaN</td>\n",
       "      <td>NaN</td>\n",
       "      <td>NaN</td>\n",
       "      <td>NaN</td>\n",
       "      <td>NaN</td>\n",
       "      <td>NaN</td>\n",
       "    </tr>\n",
       "    <tr>\n",
       "      <th>4</th>\n",
       "      <td>3.283048e+10</td>\n",
       "      <td>Popular High Quanlity Cute Interactive Fancy P...</td>\n",
       "      <td>{\"Brand Name\": \"LNRRABC\", \"Type\": \"Cats\", \"Toy...</td>\n",
       "      <td>1.51</td>\n",
       "      <td>1.16</td>\n",
       "      <td>4.8</td>\n",
       "      <td>1590.0</td>\n",
       "      <td>3828.0</td>\n",
       "      <td>0.0</td>\n",
       "      <td>True</td>\n",
       "      <td>...</td>\n",
       "      <td>NaN</td>\n",
       "      <td>NaN</td>\n",
       "      <td>NaN</td>\n",
       "      <td>NaN</td>\n",
       "      <td>NaN</td>\n",
       "      <td>NaN</td>\n",
       "      <td>NaN</td>\n",
       "      <td>NaN</td>\n",
       "      <td>NaN</td>\n",
       "      <td>NaN</td>\n",
       "    </tr>\n",
       "  </tbody>\n",
       "</table>\n",
       "<p>5 rows × 33 columns</p>\n",
       "</div>"
      ],
      "text/plain": [
       "     product_id                                              title  \\\n",
       "0  3.283524e+10  13Cm Sightly Pet Chew Cotton Donut Play Toys L...   \n",
       "1  3.280403e+10  HANTAJANSS Large Dog Harness Collar Comfortabl...   \n",
       "2  3.272679e+10  Wholesale 1PC HandsomePet Dog Scarf Collars  A...   \n",
       "3  3.283944e+10  FLOWGOGO Anti-lost Stainless Steel Dog ID Tag ...   \n",
       "4  3.283048e+10  Popular High Quanlity Cute Interactive Fancy P...   \n",
       "\n",
       "                                         description  price  discount_price  \\\n",
       "0  {\"Brand Name\": \"PETRICH\", \"Type\": \"Dogs\", \"Toy...   0.74            0.70   \n",
       "1  {\"Brand Name\": \"HANTAJANSS\", \"Type\": \"Harnesse...   6.99             NaN   \n",
       "2  {\"Brand Name\": \"Dogbaby\", \"Type\": \"Collars\", \"...   0.99            0.69   \n",
       "3  {\"Brand Name\": \"flowgogo\", \"Type\": \"ID Tags\", ...   1.79            1.70   \n",
       "4  {\"Brand Name\": \"LNRRABC\", \"Type\": \"Cats\", \"Toy...   1.51            1.16   \n",
       "\n",
       "   stars   votes  orders  wishlists is_free_shipping     ...      Unnamed: 4  \\\n",
       "0    4.9   739.0  3012.0        0.0             True     ...             NaN   \n",
       "1    3.9    23.0  3053.0        0.0             True     ...             NaN   \n",
       "2    4.5    89.0  2625.0        0.0             True     ...             NaN   \n",
       "3    4.9  2832.0  4824.0        0.0             True     ...             NaN   \n",
       "4    4.8  1590.0  3828.0        0.0             True     ...             NaN   \n",
       "\n",
       "  Unnamed: 5  \\\n",
       "0        NaN   \n",
       "1        NaN   \n",
       "2        NaN   \n",
       "3        NaN   \n",
       "4        NaN   \n",
       "\n",
       "   https://ae01.alicdn.com/kf/UTB8hRIavU_4iuJk43Fqq6z.FpXa9.jpg_220x220.jpg  \\\n",
       "0                                                NaN                          \n",
       "1                                                NaN                          \n",
       "2                                                NaN                          \n",
       "3                                                NaN                          \n",
       "4                                                NaN                          \n",
       "\n",
       "  1739924740 C***l M.  17 Sep 2018  Unnamed: 10 Seller's Shipping Method  \\\n",
       "0        NaN      NaN          NaN          NaN                      NaN   \n",
       "1        NaN      NaN          NaN          NaN                      NaN   \n",
       "2        NaN      NaN          NaN          NaN                      NaN   \n",
       "3        NaN      NaN          NaN          NaN                      NaN   \n",
       "4        NaN      NaN          NaN          NaN                      NaN   \n",
       "\n",
       "  Unnamed: 12  Unnamed: 13  \n",
       "0         NaN          NaN  \n",
       "1         NaN          NaN  \n",
       "2         NaN          NaN  \n",
       "3         NaN          NaN  \n",
       "4         NaN          NaN  \n",
       "\n",
       "[5 rows x 33 columns]"
      ]
     },
     "execution_count": 27,
     "metadata": {},
     "output_type": "execute_result"
    }
   ],
   "source": [
    "big_df.head()"
   ]
  },
  {
   "cell_type": "code",
   "execution_count": 28,
   "metadata": {},
   "outputs": [
    {
     "data": {
      "text/plain": [
       "Index(['product_id', 'title', 'description', 'price', 'discount_price',\n",
       "       'stars', 'votes', 'orders', 'wishlists', 'is_free_shipping',\n",
       "       'is_epacket', 'primary_image_url', 'store_id', 'store_name',\n",
       "       'store_start_date', 'store_feedback_score',\n",
       "       'store_positive_feedback_rate', 'category', 'product_url',\n",
       "       '32470856363', 'False', 'US', '100', 'Unnamed: 4', 'Unnamed: 5',\n",
       "       'https://ae01.alicdn.com/kf/UTB8hRIavU_4iuJk43Fqq6z.FpXa9.jpg_220x220.jpg',\n",
       "       '1739924740', 'C***l M.', '17 Sep 2018', 'Unnamed: 10',\n",
       "       'Seller's Shipping Method', 'Unnamed: 12', 'Unnamed: 13'],\n",
       "      dtype='object')"
      ]
     },
     "execution_count": 28,
     "metadata": {},
     "output_type": "execute_result"
    }
   ],
   "source": [
    "big_df.columns"
   ]
  },
  {
   "cell_type": "code",
   "execution_count": null,
   "metadata": {},
   "outputs": [],
   "source": []
  }
 ],
 "metadata": {
  "kernelspec": {
   "display_name": "Python 3",
   "language": "python",
   "name": "python3"
  },
  "language_info": {
   "codemirror_mode": {
    "name": "ipython",
    "version": 3
   },
   "file_extension": ".py",
   "mimetype": "text/x-python",
   "name": "python",
   "nbconvert_exporter": "python",
   "pygments_lexer": "ipython3",
   "version": "3.6.6"
  }
 },
 "nbformat": 4,
 "nbformat_minor": 2
}
